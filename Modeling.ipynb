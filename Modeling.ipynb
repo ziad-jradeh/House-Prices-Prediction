{
 "cells": [
  {
   "attachments": {},
   "cell_type": "markdown",
   "metadata": {},
   "source": [
    "# House Prices Prediction"
   ]
  },
  {
   "attachments": {},
   "cell_type": "markdown",
   "metadata": {},
   "source": [
    "## Importing:"
   ]
  },
  {
   "cell_type": "code",
   "execution_count": 1,
   "metadata": {},
   "outputs": [],
   "source": [
    "import pandas as pd\n",
    "import numpy as np\n",
    "import seaborn as sns\n",
    "import matplotlib.pyplot as plt\n",
    "import plotly.express as px\n",
    "\n",
    "# get_description() is a function to get the description of any column name or a value.\n",
    "# It takes the column/value name, or any list of them:\n",
    "from data_description import get_description\n",
    "\n",
    "%matplotlib inline\n",
    "sns.set_style('darkgrid')"
   ]
  },
  {
   "attachments": {},
   "cell_type": "markdown",
   "metadata": {},
   "source": [
    "### Importing the 'clean_dataset.csv' file:"
   ]
  },
  {
   "cell_type": "code",
   "execution_count": 2,
   "metadata": {},
   "outputs": [
    {
     "data": {
      "text/html": [
       "<div>\n",
       "<style scoped>\n",
       "    .dataframe tbody tr th:only-of-type {\n",
       "        vertical-align: middle;\n",
       "    }\n",
       "\n",
       "    .dataframe tbody tr th {\n",
       "        vertical-align: top;\n",
       "    }\n",
       "\n",
       "    .dataframe thead th {\n",
       "        text-align: right;\n",
       "    }\n",
       "</style>\n",
       "<table border=\"1\" class=\"dataframe\">\n",
       "  <thead>\n",
       "    <tr style=\"text-align: right;\">\n",
       "      <th></th>\n",
       "      <th>MSSubClass</th>\n",
       "      <th>MSZoning</th>\n",
       "      <th>LotFrontage</th>\n",
       "      <th>LotArea</th>\n",
       "      <th>Street</th>\n",
       "      <th>Alley</th>\n",
       "      <th>LotShape</th>\n",
       "      <th>LandContour</th>\n",
       "      <th>Utilities</th>\n",
       "      <th>LotConfig</th>\n",
       "      <th>...</th>\n",
       "      <th>PoolArea</th>\n",
       "      <th>PoolQC</th>\n",
       "      <th>Fence</th>\n",
       "      <th>MiscFeature</th>\n",
       "      <th>MiscVal</th>\n",
       "      <th>MoSold</th>\n",
       "      <th>YrSold</th>\n",
       "      <th>SaleType</th>\n",
       "      <th>SaleCondition</th>\n",
       "      <th>SalePrice</th>\n",
       "    </tr>\n",
       "  </thead>\n",
       "  <tbody>\n",
       "    <tr>\n",
       "      <th>0</th>\n",
       "      <td>60</td>\n",
       "      <td>RL</td>\n",
       "      <td>65.0</td>\n",
       "      <td>8450</td>\n",
       "      <td>Pave</td>\n",
       "      <td>No_Alley</td>\n",
       "      <td>Reg</td>\n",
       "      <td>Lvl</td>\n",
       "      <td>AllPub</td>\n",
       "      <td>Inside</td>\n",
       "      <td>...</td>\n",
       "      <td>0</td>\n",
       "      <td>No_Pool</td>\n",
       "      <td>No_Fence</td>\n",
       "      <td>No_MiscFeature</td>\n",
       "      <td>0</td>\n",
       "      <td>2</td>\n",
       "      <td>2008</td>\n",
       "      <td>WD</td>\n",
       "      <td>Normal</td>\n",
       "      <td>208500.0</td>\n",
       "    </tr>\n",
       "    <tr>\n",
       "      <th>1</th>\n",
       "      <td>20</td>\n",
       "      <td>RL</td>\n",
       "      <td>80.0</td>\n",
       "      <td>9600</td>\n",
       "      <td>Pave</td>\n",
       "      <td>No_Alley</td>\n",
       "      <td>Reg</td>\n",
       "      <td>Lvl</td>\n",
       "      <td>AllPub</td>\n",
       "      <td>FR2</td>\n",
       "      <td>...</td>\n",
       "      <td>0</td>\n",
       "      <td>No_Pool</td>\n",
       "      <td>No_Fence</td>\n",
       "      <td>No_MiscFeature</td>\n",
       "      <td>0</td>\n",
       "      <td>5</td>\n",
       "      <td>2007</td>\n",
       "      <td>WD</td>\n",
       "      <td>Normal</td>\n",
       "      <td>181500.0</td>\n",
       "    </tr>\n",
       "    <tr>\n",
       "      <th>2</th>\n",
       "      <td>60</td>\n",
       "      <td>RL</td>\n",
       "      <td>68.0</td>\n",
       "      <td>11250</td>\n",
       "      <td>Pave</td>\n",
       "      <td>No_Alley</td>\n",
       "      <td>IR1</td>\n",
       "      <td>Lvl</td>\n",
       "      <td>AllPub</td>\n",
       "      <td>Inside</td>\n",
       "      <td>...</td>\n",
       "      <td>0</td>\n",
       "      <td>No_Pool</td>\n",
       "      <td>No_Fence</td>\n",
       "      <td>No_MiscFeature</td>\n",
       "      <td>0</td>\n",
       "      <td>9</td>\n",
       "      <td>2008</td>\n",
       "      <td>WD</td>\n",
       "      <td>Normal</td>\n",
       "      <td>223500.0</td>\n",
       "    </tr>\n",
       "    <tr>\n",
       "      <th>3</th>\n",
       "      <td>70</td>\n",
       "      <td>RL</td>\n",
       "      <td>60.0</td>\n",
       "      <td>9550</td>\n",
       "      <td>Pave</td>\n",
       "      <td>No_Alley</td>\n",
       "      <td>IR1</td>\n",
       "      <td>Lvl</td>\n",
       "      <td>AllPub</td>\n",
       "      <td>Corner</td>\n",
       "      <td>...</td>\n",
       "      <td>0</td>\n",
       "      <td>No_Pool</td>\n",
       "      <td>No_Fence</td>\n",
       "      <td>No_MiscFeature</td>\n",
       "      <td>0</td>\n",
       "      <td>2</td>\n",
       "      <td>2006</td>\n",
       "      <td>WD</td>\n",
       "      <td>Abnorml</td>\n",
       "      <td>140000.0</td>\n",
       "    </tr>\n",
       "    <tr>\n",
       "      <th>4</th>\n",
       "      <td>60</td>\n",
       "      <td>RL</td>\n",
       "      <td>84.0</td>\n",
       "      <td>14260</td>\n",
       "      <td>Pave</td>\n",
       "      <td>No_Alley</td>\n",
       "      <td>IR1</td>\n",
       "      <td>Lvl</td>\n",
       "      <td>AllPub</td>\n",
       "      <td>FR2</td>\n",
       "      <td>...</td>\n",
       "      <td>0</td>\n",
       "      <td>No_Pool</td>\n",
       "      <td>No_Fence</td>\n",
       "      <td>No_MiscFeature</td>\n",
       "      <td>0</td>\n",
       "      <td>12</td>\n",
       "      <td>2008</td>\n",
       "      <td>WD</td>\n",
       "      <td>Normal</td>\n",
       "      <td>250000.0</td>\n",
       "    </tr>\n",
       "  </tbody>\n",
       "</table>\n",
       "<p>5 rows × 80 columns</p>\n",
       "</div>"
      ],
      "text/plain": [
       "   MSSubClass MSZoning  LotFrontage  LotArea Street     Alley LotShape  \\\n",
       "0          60       RL         65.0     8450   Pave  No_Alley      Reg   \n",
       "1          20       RL         80.0     9600   Pave  No_Alley      Reg   \n",
       "2          60       RL         68.0    11250   Pave  No_Alley      IR1   \n",
       "3          70       RL         60.0     9550   Pave  No_Alley      IR1   \n",
       "4          60       RL         84.0    14260   Pave  No_Alley      IR1   \n",
       "\n",
       "  LandContour Utilities LotConfig  ... PoolArea   PoolQC     Fence  \\\n",
       "0         Lvl    AllPub    Inside  ...        0  No_Pool  No_Fence   \n",
       "1         Lvl    AllPub       FR2  ...        0  No_Pool  No_Fence   \n",
       "2         Lvl    AllPub    Inside  ...        0  No_Pool  No_Fence   \n",
       "3         Lvl    AllPub    Corner  ...        0  No_Pool  No_Fence   \n",
       "4         Lvl    AllPub       FR2  ...        0  No_Pool  No_Fence   \n",
       "\n",
       "      MiscFeature MiscVal MoSold  YrSold  SaleType  SaleCondition  SalePrice  \n",
       "0  No_MiscFeature       0      2    2008        WD         Normal   208500.0  \n",
       "1  No_MiscFeature       0      5    2007        WD         Normal   181500.0  \n",
       "2  No_MiscFeature       0      9    2008        WD         Normal   223500.0  \n",
       "3  No_MiscFeature       0      2    2006        WD        Abnorml   140000.0  \n",
       "4  No_MiscFeature       0     12    2008        WD         Normal   250000.0  \n",
       "\n",
       "[5 rows x 80 columns]"
      ]
     },
     "execution_count": 2,
     "metadata": {},
     "output_type": "execute_result"
    }
   ],
   "source": [
    "clean_data = pd.read_csv('data/clean_dataset.csv', index_col=0).drop(columns=['Id'])\n",
    "clean_data.head()"
   ]
  },
  {
   "cell_type": "markdown",
   "metadata": {},
   "source": [
    "## Feature engineering:"
   ]
  },
  {
   "cell_type": "markdown",
   "metadata": {},
   "source": [
    "#### NOTE: All feature engineering should be done clean_data as a whole. Because. train and test data are obtained by splitting after the feature engineering is finished."
   ]
  },
  {
   "cell_type": "code",
   "execution_count": 915,
   "metadata": {},
   "outputs": [],
   "source": [
    "data = clean_data.copy()"
   ]
  },
  {
   "cell_type": "code",
   "execution_count": 916,
   "metadata": {},
   "outputs": [],
   "source": [
    "data['MSSubClass'] = data['MSSubClass'].astype(str)"
   ]
  },
  {
   "cell_type": "code",
   "execution_count": 917,
   "metadata": {},
   "outputs": [],
   "source": [
    "data['MoSold'] = data['MoSold'].replace([1, 2, 3, 4, 5, 6, 7, 8, 9, 10, 11, 12], ['Jan', 'Feb', 'Mar', 'Apr', 'May', 'Jun', 'Jul', 'Aug', 'Sep', 'Oct', 'Nov', 'Dec'])  "
   ]
  },
  {
   "cell_type": "code",
   "execution_count": 918,
   "metadata": {},
   "outputs": [],
   "source": [
    "data['HouseAge'] = data['YrSold'] - data['YearBuilt']"
   ]
  },
  {
   "cell_type": "code",
   "execution_count": 919,
   "metadata": {},
   "outputs": [],
   "source": [
    "data['LastRemodeled'] = data['YrSold'] - data['YearRemodAdd']\n",
    "data['IsRemodeled'] = np.where(data['YearRemodAdd'] != data['YearBuilt'], 1, 0)"
   ]
  },
  {
   "cell_type": "code",
   "execution_count": 920,
   "metadata": {},
   "outputs": [],
   "source": [
    "data['TotalBathrooms'] = data['FullBath'] + data['BsmtFullBath'] + (data['HalfBath'] + data['BsmtHalfBath']) / 2"
   ]
  },
  {
   "cell_type": "markdown",
   "metadata": {},
   "source": [
    "Ordinal categorical features to numerical:"
   ]
  },
  {
   "cell_type": "code",
   "execution_count": 921,
   "metadata": {},
   "outputs": [],
   "source": [
    "ordinal = ['ExterQual','BsmtQual','KitchenQual','FireplaceQu','GarageQual','ExterCond', 'BsmtCond','GarageCond','HeatingQC']\n",
    "for col in ordinal:\n",
    "    data[col] = data[col].replace(['No_Fireplace', 'No_Garage', 'No_Bsmt', 'No_Pool'], 'None')\n",
    "    data[col+'_num'] = data[col].replace(['Ex','Gd','TA','Fa','Po','None'], [5,4,3,2,1,0])"
   ]
  },
  {
   "cell_type": "markdown",
   "metadata": {},
   "source": [
    "Columns to exclude:"
   ]
  },
  {
   "cell_type": "code",
   "execution_count": 922,
   "metadata": {},
   "outputs": [],
   "source": [
    "exclude = ['ExterQual','BsmtQual','KitchenQual','FireplaceQu','GarageQual',\n",
    "        'ExterCond', 'BsmtCond','GarageCond','HeatingQC',\n",
    "        'FullBath', 'BsmtFullBath', 'HalfBath', 'BsmtHalfBath', \n",
    "        'YearRemodAdd', 'YearBuilt', 'YrSold'\n",
    "        ]\n",
    "\n",
    "data = data.drop(columns=exclude)"
   ]
  },
  {
   "cell_type": "code",
   "execution_count": 923,
   "metadata": {},
   "outputs": [],
   "source": [
    "categorical = [x for x in data.columns if data[x].dtype == 'object']\n",
    "numerical = [x for x in data.columns if data[x].dtype != 'object']"
   ]
  },
  {
   "cell_type": "markdown",
   "metadata": {},
   "source": [
    "### Converting categorical data into dummies:"
   ]
  },
  {
   "cell_type": "code",
   "execution_count": 924,
   "metadata": {},
   "outputs": [],
   "source": [
    "clean_data = pd.get_dummies(data, drop_first=True)"
   ]
  },
  {
   "cell_type": "code",
   "execution_count": 925,
   "metadata": {},
   "outputs": [
    {
     "data": {
      "text/plain": [
       "(2919, 254)"
      ]
     },
     "execution_count": 925,
     "metadata": {},
     "output_type": "execute_result"
    }
   ],
   "source": [
    "clean_data.shape"
   ]
  },
  {
   "cell_type": "markdown",
   "metadata": {},
   "source": [
    "## Modeling:"
   ]
  },
  {
   "cell_type": "code",
   "execution_count": 926,
   "metadata": {},
   "outputs": [],
   "source": [
    "from  sklearn.linear_model  import  LinearRegression\n",
    "from sklearn.linear_model import Ridge\n",
    "from  sklearn.metrics  import  mean_squared_error ,  r2_score\n",
    "from sklearn.model_selection import train_test_split\n"
   ]
  },
  {
   "cell_type": "markdown",
   "metadata": {},
   "source": [
    "NOTE:\n",
    "\n",
    "modeling_data: has all the features for training and testingthe the models.\n",
    "\n",
    "X_train, y_train, X_test, y_test should be obtained from splitting modeling_data.\n",
    "\n",
    "And:\n",
    "\n",
    "target_data: has all the features to predict the final house prices, after the best model is selected."
   ]
  },
  {
   "cell_type": "code",
   "execution_count": 927,
   "metadata": {},
   "outputs": [],
   "source": [
    "modeling_data = clean_data[:1460]\n",
    "\n",
    "target_data = clean_data[1460:]"
   ]
  },
  {
   "cell_type": "code",
   "execution_count": 928,
   "metadata": {},
   "outputs": [],
   "source": [
    "results = pd.DataFrame(columns=['R2', 'RMSE'])"
   ]
  },
  {
   "cell_type": "markdown",
   "metadata": {},
   "source": [
    "If needed:\n",
    "\n",
    "selected_features: is a list of the names of the selected features.\n",
    "\n",
    "modeling_data[selected_features]: is the modeling data with only the selected features."
   ]
  },
  {
   "cell_type": "code",
   "execution_count": 929,
   "metadata": {},
   "outputs": [],
   "source": [
    "X = modeling_data.drop(columns=['SalePrice'])\n",
    "y = modeling_data['SalePrice']"
   ]
  },
  {
   "cell_type": "code",
   "execution_count": 930,
   "metadata": {},
   "outputs": [],
   "source": [
    "X_train, X_test, y_train, y_test = train_test_split(X, y, test_size = 0.2)"
   ]
  },
  {
   "cell_type": "markdown",
   "metadata": {},
   "source": [
    "## Multiple Linear Regression:"
   ]
  },
  {
   "cell_type": "code",
   "execution_count": 931,
   "metadata": {},
   "outputs": [
    {
     "name": "stdout",
     "output_type": "stream",
     "text": [
      "Selected Features [51]:\n"
     ]
    },
    {
     "data": {
      "text/plain": [
       "['OverallQual',\n",
       " 'GarageCars',\n",
       " 'TotalBathrooms',\n",
       " 'ExterQual_num',\n",
       " 'KitchenQual_num',\n",
       " 'MSSubClass_190',\n",
       " 'MSSubClass_90',\n",
       " 'LotShape_IR2',\n",
       " 'Utilities_NoSeWa',\n",
       " 'LotConfig_CulDSac',\n",
       " 'LotConfig_FR3',\n",
       " 'LandSlope_Sev',\n",
       " 'Neighborhood_BrkSide',\n",
       " 'Neighborhood_Crawfor',\n",
       " 'Neighborhood_NoRidge',\n",
       " 'Neighborhood_NridgHt',\n",
       " 'Neighborhood_StoneBr',\n",
       " 'Condition2_PosA',\n",
       " 'Condition2_PosN',\n",
       " 'Condition2_RRAn',\n",
       " 'BldgType_2fmCon',\n",
       " 'BldgType_Duplex',\n",
       " 'BldgType_Twnhs',\n",
       " 'BldgType_TwnhsE',\n",
       " 'RoofStyle_Mansard',\n",
       " 'RoofMatl_CompShg',\n",
       " 'RoofMatl_Metal',\n",
       " 'RoofMatl_Tar&Grv',\n",
       " 'RoofMatl_WdShake',\n",
       " 'RoofMatl_WdShngl',\n",
       " 'Exterior1st_BrkComm',\n",
       " 'Exterior1st_BrkFace',\n",
       " 'Exterior1st_CBlock',\n",
       " 'Exterior1st_CemntBd',\n",
       " 'Exterior1st_Stone',\n",
       " 'Exterior1st_Stucco',\n",
       " 'Exterior2nd_CBlock',\n",
       " 'Exterior2nd_Other',\n",
       " 'Exterior2nd_Stone',\n",
       " 'Exterior2nd_Stucco',\n",
       " 'Exterior2nd_Wd Shng',\n",
       " 'BsmtExposure_Gd',\n",
       " 'BsmtFinType1_Unf',\n",
       " 'Heating_OthW',\n",
       " 'Functional_Mod',\n",
       " 'Functional_Sev',\n",
       " 'GarageType_No_Garage',\n",
       " 'MiscFeature_TenC',\n",
       " 'MoSold_Oct',\n",
       " 'SaleType_Con',\n",
       " 'SaleType_New']"
      ]
     },
     "execution_count": 931,
     "metadata": {},
     "output_type": "execute_result"
    }
   ],
   "source": [
    "from sklearn.linear_model import LinearRegression\n",
    "from sklearn.feature_selection import RFECV\n",
    "\n",
    "# recursive feature elimination\n",
    "rfe = RFECV(LinearRegression())\n",
    "selector = rfe.fit(X_train, y_train)\n",
    "print(f'Selected Features [{selector.n_features_}]:')\n",
    "selector.get_feature_names_out().tolist()"
   ]
  },
  {
   "cell_type": "code",
   "execution_count": 932,
   "metadata": {},
   "outputs": [],
   "source": [
    "selected_features = selector.get_feature_names_out().tolist()\n",
    "\n",
    "# corr_with_price = modeling_data.corr()['SalePrice'].sort_values(ascending=False)[1:]\n",
    "# selected_features = corr_with_price[0:20].index\n",
    "\n",
    "X_train = X_train[selected_features]\n",
    "X_test = X_test[selected_features]"
   ]
  },
  {
   "cell_type": "code",
   "execution_count": 933,
   "metadata": {},
   "outputs": [
    {
     "data": {
      "text/html": [
       "<table class=\"simpletable\">\n",
       "<caption>OLS Regression Results</caption>\n",
       "<tr>\n",
       "  <th>Dep. Variable:</th>        <td>SalePrice</td>    <th>  R-squared (uncentered):</th>      <td>   0.974</td> \n",
       "</tr>\n",
       "<tr>\n",
       "  <th>Model:</th>                   <td>OLS</td>       <th>  Adj. R-squared (uncentered):</th> <td>   0.973</td> \n",
       "</tr>\n",
       "<tr>\n",
       "  <th>Method:</th>             <td>Least Squares</td>  <th>  F-statistic:       </th>          <td>   850.9</td> \n",
       "</tr>\n",
       "<tr>\n",
       "  <th>Date:</th>             <td>Tue, 11 Jul 2023</td> <th>  Prob (F-statistic):</th>           <td>  0.00</td>  \n",
       "</tr>\n",
       "<tr>\n",
       "  <th>Time:</th>                 <td>22:31:08</td>     <th>  Log-Likelihood:    </th>          <td> -13769.</td> \n",
       "</tr>\n",
       "<tr>\n",
       "  <th>No. Observations:</th>      <td>  1168</td>      <th>  AIC:               </th>          <td>2.764e+04</td>\n",
       "</tr>\n",
       "<tr>\n",
       "  <th>Df Residuals:</th>          <td>  1119</td>      <th>  BIC:               </th>          <td>2.788e+04</td>\n",
       "</tr>\n",
       "<tr>\n",
       "  <th>Df Model:</th>              <td>    49</td>      <th>                     </th>              <td> </td>    \n",
       "</tr>\n",
       "<tr>\n",
       "  <th>Covariance Type:</th>      <td>nonrobust</td>    <th>                     </th>              <td> </td>    \n",
       "</tr>\n",
       "</table>"
      ],
      "text/plain": [
       "<class 'statsmodels.iolib.table.SimpleTable'>"
      ]
     },
     "execution_count": 933,
     "metadata": {},
     "output_type": "execute_result"
    }
   ],
   "source": [
    "import  statsmodels.api  as  sm \n",
    "lm = sm.OLS(y_train, X_train ) \n",
    "model = lm.fit() \n",
    "y_pred = model.predict(X_test)\n",
    "model.summary().tables[0]"
   ]
  },
  {
   "cell_type": "code",
   "execution_count": 934,
   "metadata": {},
   "outputs": [
    {
     "data": {
      "text/html": [
       "<div>\n",
       "<style scoped>\n",
       "    .dataframe tbody tr th:only-of-type {\n",
       "        vertical-align: middle;\n",
       "    }\n",
       "\n",
       "    .dataframe tbody tr th {\n",
       "        vertical-align: top;\n",
       "    }\n",
       "\n",
       "    .dataframe thead th {\n",
       "        text-align: right;\n",
       "    }\n",
       "</style>\n",
       "<table border=\"1\" class=\"dataframe\">\n",
       "  <thead>\n",
       "    <tr style=\"text-align: right;\">\n",
       "      <th></th>\n",
       "      <th>R2</th>\n",
       "      <th>RMSE</th>\n",
       "    </tr>\n",
       "  </thead>\n",
       "  <tbody>\n",
       "    <tr>\n",
       "      <th>Multiple Linear Regression</th>\n",
       "      <td>0.787361</td>\n",
       "      <td>37270.511851</td>\n",
       "    </tr>\n",
       "  </tbody>\n",
       "</table>\n",
       "</div>"
      ],
      "text/plain": [
       "                                  R2          RMSE\n",
       "Multiple Linear Regression  0.787361  37270.511851"
      ]
     },
     "execution_count": 934,
     "metadata": {},
     "output_type": "execute_result"
    }
   ],
   "source": [
    "r2 = r2_score(y_test, y_pred)\n",
    "rmse = np.sqrt(mean_squared_error(y_test, y_pred))\n",
    "results.loc['Multiple Linear Regression'] = [r2, rmse]\n",
    "results"
   ]
  },
  {
   "cell_type": "code",
   "execution_count": 935,
   "metadata": {},
   "outputs": [
    {
     "data": {
      "image/png": "[encoded data removed]",
      "text/plain": [
       "<Figure size 640x480 with 1 Axes>"
      ]
     },
     "metadata": {},
     "output_type": "display_data"
    }
   ],
   "source": [
    "plt.scatter(y_test, y_pred)\n",
    "plt.show()"
   ]
  },
  {
   "cell_type": "code",
   "execution_count": 936,
   "metadata": {},
   "outputs": [],
   "source": [
    "from sklearn.linear_model import RidgeCV\n",
    "from sklearn.preprocessing import StandardScaler\n"
   ]
  },
  {
   "cell_type": "code",
   "execution_count": 937,
   "metadata": {},
   "outputs": [],
   "source": [
    "scaler = StandardScaler()\n",
    "X_std = scaler.fit_transform(X)\n",
    "X_std = pd.DataFrame(X_std, columns = modeling_data.drop(columns=['SalePrice']).columns)\n",
    "X_train, X_test, y_train, y_test = train_test_split(X_std, y, test_size = 0.2)\n"
   ]
  },
  {
   "cell_type": "code",
   "execution_count": 938,
   "metadata": {},
   "outputs": [
    {
     "name": "stdout",
     "output_type": "stream",
     "text": [
      "Selected Features [126]:\n"
     ]
    },
    {
     "data": {
      "text/plain": [
       "['LotArea',\n",
       " 'OverallQual',\n",
       " 'OverallCond',\n",
       " 'MasVnrArea',\n",
       " 'BsmtFinSF1',\n",
       " 'TotalBsmtSF',\n",
       " '1stFlrSF',\n",
       " '2ndFlrSF',\n",
       " 'GrLivArea',\n",
       " 'BedroomAbvGr',\n",
       " 'KitchenAbvGr',\n",
       " 'TotRmsAbvGrd',\n",
       " 'Fireplaces',\n",
       " 'GarageYrBlt',\n",
       " 'GarageCars',\n",
       " 'GarageArea',\n",
       " 'WoodDeckSF',\n",
       " 'OpenPorchSF',\n",
       " '3SsnPorch',\n",
       " 'ScreenPorch',\n",
       " 'PoolArea',\n",
       " 'HouseAge',\n",
       " 'IsRemodeled',\n",
       " 'TotalBathrooms',\n",
       " 'ExterQual_num',\n",
       " 'BsmtQual_num',\n",
       " 'KitchenQual_num',\n",
       " 'GarageQual_num',\n",
       " 'HeatingQC_num',\n",
       " 'MSSubClass_160',\n",
       " 'MSSubClass_190',\n",
       " 'MSSubClass_20',\n",
       " 'MSZoning_RL',\n",
       " 'Street_Pave',\n",
       " 'LotShape_IR3',\n",
       " 'LandContour_HLS',\n",
       " 'LandContour_Lvl',\n",
       " 'Utilities_NoSeWa',\n",
       " 'LotConfig_CulDSac',\n",
       " 'LotConfig_FR2',\n",
       " 'LandSlope_Mod',\n",
       " 'LandSlope_Sev',\n",
       " 'Neighborhood_BrDale',\n",
       " 'Neighborhood_Crawfor',\n",
       " 'Neighborhood_Edwards',\n",
       " 'Neighborhood_Gilbert',\n",
       " 'Neighborhood_IDOTRR',\n",
       " 'Neighborhood_MeadowV',\n",
       " 'Neighborhood_Mitchel',\n",
       " 'Neighborhood_NAmes',\n",
       " 'Neighborhood_NPkVill',\n",
       " 'Neighborhood_NWAmes',\n",
       " 'Neighborhood_NoRidge',\n",
       " 'Neighborhood_NridgHt',\n",
       " 'Neighborhood_OldTown',\n",
       " 'Neighborhood_SWISU',\n",
       " 'Neighborhood_Somerst',\n",
       " 'Neighborhood_StoneBr',\n",
       " 'Condition1_Feedr',\n",
       " 'Condition1_Norm',\n",
       " 'Condition1_RRAe',\n",
       " 'Condition1_RRNe',\n",
       " 'Condition2_PosA',\n",
       " 'Condition2_PosN',\n",
       " 'Condition2_RRAe',\n",
       " 'BldgType_Twnhs',\n",
       " 'BldgType_TwnhsE',\n",
       " 'HouseStyle_1Story',\n",
       " 'HouseStyle_2Story',\n",
       " 'HouseStyle_SFoyer',\n",
       " 'RoofStyle_Gable',\n",
       " 'RoofStyle_Mansard',\n",
       " 'RoofStyle_Shed',\n",
       " 'RoofMatl_CompShg',\n",
       " 'RoofMatl_Membran',\n",
       " 'RoofMatl_Metal',\n",
       " 'RoofMatl_Tar&Grv',\n",
       " 'RoofMatl_WdShake',\n",
       " 'RoofMatl_WdShngl',\n",
       " 'Exterior1st_BrkFace',\n",
       " 'Exterior1st_MetalSd',\n",
       " 'Exterior1st_Stone',\n",
       " 'Exterior2nd_BrkFace',\n",
       " 'Exterior2nd_CmentBd',\n",
       " 'Exterior2nd_ImStucc',\n",
       " 'Exterior2nd_Stone',\n",
       " 'Exterior2nd_Stucco',\n",
       " 'Exterior2nd_Wd Shng',\n",
       " 'MasVnrType_BrkFace',\n",
       " 'MasVnrType_None',\n",
       " 'Foundation_PConc',\n",
       " 'BsmtExposure_Gd',\n",
       " 'BsmtExposure_Mn',\n",
       " 'BsmtExposure_No',\n",
       " 'BsmtFinType1_GLQ',\n",
       " 'BsmtFinType1_No_Bsmt',\n",
       " 'BsmtFinType1_Unf',\n",
       " 'BsmtFinType2_BLQ',\n",
       " 'BsmtFinType2_LwQ',\n",
       " 'BsmtFinType2_Rec',\n",
       " 'BsmtFinType2_Unf',\n",
       " 'Heating_OthW',\n",
       " 'Electrical_SBrkr',\n",
       " 'Functional_Mod',\n",
       " 'Functional_Sev',\n",
       " 'Functional_Typ',\n",
       " 'GarageType_No_Garage',\n",
       " 'GarageFinish_No_Garage',\n",
       " 'GarageFinish_RFn',\n",
       " 'GarageFinish_Unf',\n",
       " 'PoolQC_Fa',\n",
       " 'PoolQC_Gd',\n",
       " 'PoolQC_No_Pool',\n",
       " 'MiscFeature_Othr',\n",
       " 'MoSold_Aug',\n",
       " 'MoSold_Dec',\n",
       " 'MoSold_Jul',\n",
       " 'MoSold_Oct',\n",
       " 'SaleType_CWD',\n",
       " 'SaleType_Con',\n",
       " 'SaleType_ConLD',\n",
       " 'SaleType_New',\n",
       " 'SaleType_WD',\n",
       " 'SaleCondition_Family',\n",
       " 'SaleCondition_Normal',\n",
       " 'SaleCondition_Partial']"
      ]
     },
     "execution_count": 938,
     "metadata": {},
     "output_type": "execute_result"
    }
   ],
   "source": [
    "from sklearn.linear_model import LinearRegression\n",
    "from sklearn.feature_selection import RFE\n",
    "\n",
    "# recursive feature elimination\n",
    "rfe = RFE(Ridge(alpha=100))\n",
    "selector = rfe.fit(X_train, y_train)\n",
    "print(f'Selected Features [{selector.n_features_}]:')\n",
    "selector.get_feature_names_out().tolist()"
   ]
  },
  {
   "cell_type": "code",
   "execution_count": 939,
   "metadata": {},
   "outputs": [],
   "source": [
    "selected_features = selector.get_feature_names_out().tolist()\n",
    "X_train = X_train[selected_features]\n",
    "X_test = X_test[selected_features]"
   ]
  },
  {
   "cell_type": "code",
   "execution_count": 940,
   "metadata": {},
   "outputs": [
    {
     "data": {
      "text/plain": [
       "array([1.00000000e+03, 9.98998999e+02, 9.97997998e+02, 9.96996997e+02,\n",
       "       9.95995996e+02, 9.94994995e+02, 9.93993995e+02, 9.92992994e+02,\n",
       "       9.91991993e+02, 9.90990992e+02, 9.89989991e+02, 9.88988990e+02,\n",
       "       9.87987989e+02, 9.86986988e+02, 9.85985987e+02, 9.84984986e+02,\n",
       "       9.83983986e+02, 9.82982985e+02, 9.81981984e+02, 9.80980983e+02,\n",
       "       9.79979982e+02, 9.78978981e+02, 9.77977980e+02, 9.76976979e+02,\n",
       "       9.75975978e+02, 9.74974977e+02, 9.73973977e+02, 9.72972976e+02,\n",
       "       9.71971975e+02, 9.70970974e+02, 9.69969973e+02, 9.68968972e+02,\n",
       "       9.67967971e+02, 9.66966970e+02, 9.65965969e+02, 9.64964968e+02,\n",
       "       9.63963968e+02, 9.62962967e+02, 9.61961966e+02, 9.60960965e+02,\n",
       "       9.59959964e+02, 9.58958963e+02, 9.57957962e+02, 9.56956961e+02,\n",
       "       9.55955960e+02, 9.54954959e+02, 9.53953959e+02, 9.52952958e+02,\n",
       "       9.51951957e+02, 9.50950956e+02, 9.49949955e+02, 9.48948954e+02,\n",
       "       9.47947953e+02, 9.46946952e+02, 9.45945951e+02, 9.44944950e+02,\n",
       "       9.43943950e+02, 9.42942949e+02, 9.41941948e+02, 9.40940947e+02,\n",
       "       9.39939946e+02, 9.38938945e+02, 9.37937944e+02, 9.36936943e+02,\n",
       "       9.35935942e+02, 9.34934941e+02, 9.33933941e+02, 9.32932940e+02,\n",
       "       9.31931939e+02, 9.30930938e+02, 9.29929937e+02, 9.28928936e+02,\n",
       "       9.27927935e+02, 9.26926934e+02, 9.25925933e+02, 9.24924932e+02,\n",
       "       9.23923932e+02, 9.22922931e+02, 9.21921930e+02, 9.20920929e+02,\n",
       "       9.19919928e+02, 9.18918927e+02, 9.17917926e+02, 9.16916925e+02,\n",
       "       9.15915924e+02, 9.14914923e+02, 9.13913923e+02, 9.12912922e+02,\n",
       "       9.11911921e+02, 9.10910920e+02, 9.09909919e+02, 9.08908918e+02,\n",
       "       9.07907917e+02, 9.06906916e+02, 9.05905915e+02, 9.04904914e+02,\n",
       "       9.03903914e+02, 9.02902913e+02, 9.01901912e+02, 9.00900911e+02,\n",
       "       8.99899910e+02, 8.98898909e+02, 8.97897908e+02, 8.96896907e+02,\n",
       "       8.95895906e+02, 8.94894905e+02, 8.93893905e+02, 8.92892904e+02,\n",
       "       8.91891903e+02, 8.90890902e+02, 8.89889901e+02, 8.88888900e+02,\n",
       "       8.87887899e+02, 8.86886898e+02, 8.85885897e+02, 8.84884896e+02,\n",
       "       8.83883895e+02, 8.82882895e+02, 8.81881894e+02, 8.80880893e+02,\n",
       "       8.79879892e+02, 8.78878891e+02, 8.77877890e+02, 8.76876889e+02,\n",
       "       8.75875888e+02, 8.74874887e+02, 8.73873886e+02, 8.72872886e+02,\n",
       "       8.71871885e+02, 8.70870884e+02, 8.69869883e+02, 8.68868882e+02,\n",
       "       8.67867881e+02, 8.66866880e+02, 8.65865879e+02, 8.64864878e+02,\n",
       "       8.63863877e+02, 8.62862877e+02, 8.61861876e+02, 8.60860875e+02,\n",
       "       8.59859874e+02, 8.58858873e+02, 8.57857872e+02, 8.56856871e+02,\n",
       "       8.55855870e+02, 8.54854869e+02, 8.53853868e+02, 8.52852868e+02,\n",
       "       8.51851867e+02, 8.50850866e+02, 8.49849865e+02, 8.48848864e+02,\n",
       "       8.47847863e+02, 8.46846862e+02, 8.45845861e+02, 8.44844860e+02,\n",
       "       8.43843859e+02, 8.42842859e+02, 8.41841858e+02, 8.40840857e+02,\n",
       "       8.39839856e+02, 8.38838855e+02, 8.37837854e+02, 8.36836853e+02,\n",
       "       8.35835852e+02, 8.34834851e+02, 8.33833850e+02, 8.32832850e+02,\n",
       "       8.31831849e+02, 8.30830848e+02, 8.29829847e+02, 8.28828846e+02,\n",
       "       8.27827845e+02, 8.26826844e+02, 8.25825843e+02, 8.24824842e+02,\n",
       "       8.23823841e+02, 8.22822841e+02, 8.21821840e+02, 8.20820839e+02,\n",
       "       8.19819838e+02, 8.18818837e+02, 8.17817836e+02, 8.16816835e+02,\n",
       "       8.15815834e+02, 8.14814833e+02, 8.13813832e+02, 8.12812832e+02,\n",
       "       8.11811831e+02, 8.10810830e+02, 8.09809829e+02, 8.08808828e+02,\n",
       "       8.07807827e+02, 8.06806826e+02, 8.05805825e+02, 8.04804824e+02,\n",
       "       8.03803823e+02, 8.02802823e+02, 8.01801822e+02, 8.00800821e+02,\n",
       "       7.99799820e+02, 7.98798819e+02, 7.97797818e+02, 7.96796817e+02,\n",
       "       7.95795816e+02, 7.94794815e+02, 7.93793814e+02, 7.92792814e+02,\n",
       "       7.91791813e+02, 7.90790812e+02, 7.89789811e+02, 7.88788810e+02,\n",
       "       7.87787809e+02, 7.86786808e+02, 7.85785807e+02, 7.84784806e+02,\n",
       "       7.83783805e+02, 7.82782805e+02, 7.81781804e+02, 7.80780803e+02,\n",
       "       7.79779802e+02, 7.78778801e+02, 7.77777800e+02, 7.76776799e+02,\n",
       "       7.75775798e+02, 7.74774797e+02, 7.73773796e+02, 7.72772795e+02,\n",
       "       7.71771795e+02, 7.70770794e+02, 7.69769793e+02, 7.68768792e+02,\n",
       "       7.67767791e+02, 7.66766790e+02, 7.65765789e+02, 7.64764788e+02,\n",
       "       7.63763787e+02, 7.62762786e+02, 7.61761786e+02, 7.60760785e+02,\n",
       "       7.59759784e+02, 7.58758783e+02, 7.57757782e+02, 7.56756781e+02,\n",
       "       7.55755780e+02, 7.54754779e+02, 7.53753778e+02, 7.52752777e+02,\n",
       "       7.51751777e+02, 7.50750776e+02, 7.49749775e+02, 7.48748774e+02,\n",
       "       7.47747773e+02, 7.46746772e+02, 7.45745771e+02, 7.44744770e+02,\n",
       "       7.43743769e+02, 7.42742768e+02, 7.41741768e+02, 7.40740767e+02,\n",
       "       7.39739766e+02, 7.38738765e+02, 7.37737764e+02, 7.36736763e+02,\n",
       "       7.35735762e+02, 7.34734761e+02, 7.33733760e+02, 7.32732759e+02,\n",
       "       7.31731759e+02, 7.30730758e+02, 7.29729757e+02, 7.28728756e+02,\n",
       "       7.27727755e+02, 7.26726754e+02, 7.25725753e+02, 7.24724752e+02,\n",
       "       7.23723751e+02, 7.22722750e+02, 7.21721750e+02, 7.20720749e+02,\n",
       "       7.19719748e+02, 7.18718747e+02, 7.17717746e+02, 7.16716745e+02,\n",
       "       7.15715744e+02, 7.14714743e+02, 7.13713742e+02, 7.12712741e+02,\n",
       "       7.11711741e+02, 7.10710740e+02, 7.09709739e+02, 7.08708738e+02,\n",
       "       7.07707737e+02, 7.06706736e+02, 7.05705735e+02, 7.04704734e+02,\n",
       "       7.03703733e+02, 7.02702732e+02, 7.01701732e+02, 7.00700731e+02,\n",
       "       6.99699730e+02, 6.98698729e+02, 6.97697728e+02, 6.96696727e+02,\n",
       "       6.95695726e+02, 6.94694725e+02, 6.93693724e+02, 6.92692723e+02,\n",
       "       6.91691723e+02, 6.90690722e+02, 6.89689721e+02, 6.88688720e+02,\n",
       "       6.87687719e+02, 6.86686718e+02, 6.85685717e+02, 6.84684716e+02,\n",
       "       6.83683715e+02, 6.82682714e+02, 6.81681714e+02, 6.80680713e+02,\n",
       "       6.79679712e+02, 6.78678711e+02, 6.77677710e+02, 6.76676709e+02,\n",
       "       6.75675708e+02, 6.74674707e+02, 6.73673706e+02, 6.72672705e+02,\n",
       "       6.71671705e+02, 6.70670704e+02, 6.69669703e+02, 6.68668702e+02,\n",
       "       6.67667701e+02, 6.66666700e+02, 6.65665699e+02, 6.64664698e+02,\n",
       "       6.63663697e+02, 6.62662696e+02, 6.61661695e+02, 6.60660695e+02,\n",
       "       6.59659694e+02, 6.58658693e+02, 6.57657692e+02, 6.56656691e+02,\n",
       "       6.55655690e+02, 6.54654689e+02, 6.53653688e+02, 6.52652687e+02,\n",
       "       6.51651686e+02, 6.50650686e+02, 6.49649685e+02, 6.48648684e+02,\n",
       "       6.47647683e+02, 6.46646682e+02, 6.45645681e+02, 6.44644680e+02,\n",
       "       6.43643679e+02, 6.42642678e+02, 6.41641677e+02, 6.40640677e+02,\n",
       "       6.39639676e+02, 6.38638675e+02, 6.37637674e+02, 6.36636673e+02,\n",
       "       6.35635672e+02, 6.34634671e+02, 6.33633670e+02, 6.32632669e+02,\n",
       "       6.31631668e+02, 6.30630668e+02, 6.29629667e+02, 6.28628666e+02,\n",
       "       6.27627665e+02, 6.26626664e+02, 6.25625663e+02, 6.24624662e+02,\n",
       "       6.23623661e+02, 6.22622660e+02, 6.21621659e+02, 6.20620659e+02,\n",
       "       6.19619658e+02, 6.18618657e+02, 6.17617656e+02, 6.16616655e+02,\n",
       "       6.15615654e+02, 6.14614653e+02, 6.13613652e+02, 6.12612651e+02,\n",
       "       6.11611650e+02, 6.10610650e+02, 6.09609649e+02, 6.08608648e+02,\n",
       "       6.07607647e+02, 6.06606646e+02, 6.05605645e+02, 6.04604644e+02,\n",
       "       6.03603643e+02, 6.02602642e+02, 6.01601641e+02, 6.00600641e+02,\n",
       "       5.99599640e+02, 5.98598639e+02, 5.97597638e+02, 5.96596637e+02,\n",
       "       5.95595636e+02, 5.94594635e+02, 5.93593634e+02, 5.92592633e+02,\n",
       "       5.91591632e+02, 5.90590632e+02, 5.89589631e+02, 5.88588630e+02,\n",
       "       5.87587629e+02, 5.86586628e+02, 5.85585627e+02, 5.84584626e+02,\n",
       "       5.83583625e+02, 5.82582624e+02, 5.81581623e+02, 5.80580623e+02,\n",
       "       5.79579622e+02, 5.78578621e+02, 5.77577620e+02, 5.76576619e+02,\n",
       "       5.75575618e+02, 5.74574617e+02, 5.73573616e+02, 5.72572615e+02,\n",
       "       5.71571614e+02, 5.70570614e+02, 5.69569613e+02, 5.68568612e+02,\n",
       "       5.67567611e+02, 5.66566610e+02, 5.65565609e+02, 5.64564608e+02,\n",
       "       5.63563607e+02, 5.62562606e+02, 5.61561605e+02, 5.60560605e+02,\n",
       "       5.59559604e+02, 5.58558603e+02, 5.57557602e+02, 5.56556601e+02,\n",
       "       5.55555600e+02, 5.54554599e+02, 5.53553598e+02, 5.52552597e+02,\n",
       "       5.51551596e+02, 5.50550595e+02, 5.49549595e+02, 5.48548594e+02,\n",
       "       5.47547593e+02, 5.46546592e+02, 5.45545591e+02, 5.44544590e+02,\n",
       "       5.43543589e+02, 5.42542588e+02, 5.41541587e+02, 5.40540586e+02,\n",
       "       5.39539586e+02, 5.38538585e+02, 5.37537584e+02, 5.36536583e+02,\n",
       "       5.35535582e+02, 5.34534581e+02, 5.33533580e+02, 5.32532579e+02,\n",
       "       5.31531578e+02, 5.30530577e+02, 5.29529577e+02, 5.28528576e+02,\n",
       "       5.27527575e+02, 5.26526574e+02, 5.25525573e+02, 5.24524572e+02,\n",
       "       5.23523571e+02, 5.22522570e+02, 5.21521569e+02, 5.20520568e+02,\n",
       "       5.19519568e+02, 5.18518567e+02, 5.17517566e+02, 5.16516565e+02,\n",
       "       5.15515564e+02, 5.14514563e+02, 5.13513562e+02, 5.12512561e+02,\n",
       "       5.11511560e+02, 5.10510559e+02, 5.09509559e+02, 5.08508558e+02,\n",
       "       5.07507557e+02, 5.06506556e+02, 5.05505555e+02, 5.04504554e+02,\n",
       "       5.03503553e+02, 5.02502552e+02, 5.01501551e+02, 5.00500550e+02,\n",
       "       4.99499550e+02, 4.98498549e+02, 4.97497548e+02, 4.96496547e+02,\n",
       "       4.95495546e+02, 4.94494545e+02, 4.93493544e+02, 4.92492543e+02,\n",
       "       4.91491542e+02, 4.90490541e+02, 4.89489541e+02, 4.88488540e+02,\n",
       "       4.87487539e+02, 4.86486538e+02, 4.85485537e+02, 4.84484536e+02,\n",
       "       4.83483535e+02, 4.82482534e+02, 4.81481533e+02, 4.80480532e+02,\n",
       "       4.79479532e+02, 4.78478531e+02, 4.77477530e+02, 4.76476529e+02,\n",
       "       4.75475528e+02, 4.74474527e+02, 4.73473526e+02, 4.72472525e+02,\n",
       "       4.71471524e+02, 4.70470523e+02, 4.69469523e+02, 4.68468522e+02,\n",
       "       4.67467521e+02, 4.66466520e+02, 4.65465519e+02, 4.64464518e+02,\n",
       "       4.63463517e+02, 4.62462516e+02, 4.61461515e+02, 4.60460514e+02,\n",
       "       4.59459514e+02, 4.58458513e+02, 4.57457512e+02, 4.56456511e+02,\n",
       "       4.55455510e+02, 4.54454509e+02, 4.53453508e+02, 4.52452507e+02,\n",
       "       4.51451506e+02, 4.50450505e+02, 4.49449505e+02, 4.48448504e+02,\n",
       "       4.47447503e+02, 4.46446502e+02, 4.45445501e+02, 4.44444500e+02,\n",
       "       4.43443499e+02, 4.42442498e+02, 4.41441497e+02, 4.40440496e+02,\n",
       "       4.39439495e+02, 4.38438495e+02, 4.37437494e+02, 4.36436493e+02,\n",
       "       4.35435492e+02, 4.34434491e+02, 4.33433490e+02, 4.32432489e+02,\n",
       "       4.31431488e+02, 4.30430487e+02, 4.29429486e+02, 4.28428486e+02,\n",
       "       4.27427485e+02, 4.26426484e+02, 4.25425483e+02, 4.24424482e+02,\n",
       "       4.23423481e+02, 4.22422480e+02, 4.21421479e+02, 4.20420478e+02,\n",
       "       4.19419477e+02, 4.18418477e+02, 4.17417476e+02, 4.16416475e+02,\n",
       "       4.15415474e+02, 4.14414473e+02, 4.13413472e+02, 4.12412471e+02,\n",
       "       4.11411470e+02, 4.10410469e+02, 4.09409468e+02, 4.08408468e+02,\n",
       "       4.07407467e+02, 4.06406466e+02, 4.05405465e+02, 4.04404464e+02,\n",
       "       4.03403463e+02, 4.02402462e+02, 4.01401461e+02, 4.00400460e+02,\n",
       "       3.99399459e+02, 3.98398459e+02, 3.97397458e+02, 3.96396457e+02,\n",
       "       3.95395456e+02, 3.94394455e+02, 3.93393454e+02, 3.92392453e+02,\n",
       "       3.91391452e+02, 3.90390451e+02, 3.89389450e+02, 3.88388450e+02,\n",
       "       3.87387449e+02, 3.86386448e+02, 3.85385447e+02, 3.84384446e+02,\n",
       "       3.83383445e+02, 3.82382444e+02, 3.81381443e+02, 3.80380442e+02,\n",
       "       3.79379441e+02, 3.78378441e+02, 3.77377440e+02, 3.76376439e+02,\n",
       "       3.75375438e+02, 3.74374437e+02, 3.73373436e+02, 3.72372435e+02,\n",
       "       3.71371434e+02, 3.70370433e+02, 3.69369432e+02, 3.68368432e+02,\n",
       "       3.67367431e+02, 3.66366430e+02, 3.65365429e+02, 3.64364428e+02,\n",
       "       3.63363427e+02, 3.62362426e+02, 3.61361425e+02, 3.60360424e+02,\n",
       "       3.59359423e+02, 3.58358423e+02, 3.57357422e+02, 3.56356421e+02,\n",
       "       3.55355420e+02, 3.54354419e+02, 3.53353418e+02, 3.52352417e+02,\n",
       "       3.51351416e+02, 3.50350415e+02, 3.49349414e+02, 3.48348414e+02,\n",
       "       3.47347413e+02, 3.46346412e+02, 3.45345411e+02, 3.44344410e+02,\n",
       "       3.43343409e+02, 3.42342408e+02, 3.41341407e+02, 3.40340406e+02,\n",
       "       3.39339405e+02, 3.38338405e+02, 3.37337404e+02, 3.36336403e+02,\n",
       "       3.35335402e+02, 3.34334401e+02, 3.33333400e+02, 3.32332399e+02,\n",
       "       3.31331398e+02, 3.30330397e+02, 3.29329396e+02, 3.28328395e+02,\n",
       "       3.27327395e+02, 3.26326394e+02, 3.25325393e+02, 3.24324392e+02,\n",
       "       3.23323391e+02, 3.22322390e+02, 3.21321389e+02, 3.20320388e+02,\n",
       "       3.19319387e+02, 3.18318386e+02, 3.17317386e+02, 3.16316385e+02,\n",
       "       3.15315384e+02, 3.14314383e+02, 3.13313382e+02, 3.12312381e+02,\n",
       "       3.11311380e+02, 3.10310379e+02, 3.09309378e+02, 3.08308377e+02,\n",
       "       3.07307377e+02, 3.06306376e+02, 3.05305375e+02, 3.04304374e+02,\n",
       "       3.03303373e+02, 3.02302372e+02, 3.01301371e+02, 3.00300370e+02,\n",
       "       2.99299369e+02, 2.98298368e+02, 2.97297368e+02, 2.96296367e+02,\n",
       "       2.95295366e+02, 2.94294365e+02, 2.93293364e+02, 2.92292363e+02,\n",
       "       2.91291362e+02, 2.90290361e+02, 2.89289360e+02, 2.88288359e+02,\n",
       "       2.87287359e+02, 2.86286358e+02, 2.85285357e+02, 2.84284356e+02,\n",
       "       2.83283355e+02, 2.82282354e+02, 2.81281353e+02, 2.80280352e+02,\n",
       "       2.79279351e+02, 2.78278350e+02, 2.77277350e+02, 2.76276349e+02,\n",
       "       2.75275348e+02, 2.74274347e+02, 2.73273346e+02, 2.72272345e+02,\n",
       "       2.71271344e+02, 2.70270343e+02, 2.69269342e+02, 2.68268341e+02,\n",
       "       2.67267341e+02, 2.66266340e+02, 2.65265339e+02, 2.64264338e+02,\n",
       "       2.63263337e+02, 2.62262336e+02, 2.61261335e+02, 2.60260334e+02,\n",
       "       2.59259333e+02, 2.58258332e+02, 2.57257332e+02, 2.56256331e+02,\n",
       "       2.55255330e+02, 2.54254329e+02, 2.53253328e+02, 2.52252327e+02,\n",
       "       2.51251326e+02, 2.50250325e+02, 2.49249324e+02, 2.48248323e+02,\n",
       "       2.47247323e+02, 2.46246322e+02, 2.45245321e+02, 2.44244320e+02,\n",
       "       2.43243319e+02, 2.42242318e+02, 2.41241317e+02, 2.40240316e+02,\n",
       "       2.39239315e+02, 2.38238314e+02, 2.37237314e+02, 2.36236313e+02,\n",
       "       2.35235312e+02, 2.34234311e+02, 2.33233310e+02, 2.32232309e+02,\n",
       "       2.31231308e+02, 2.30230307e+02, 2.29229306e+02, 2.28228305e+02,\n",
       "       2.27227305e+02, 2.26226304e+02, 2.25225303e+02, 2.24224302e+02,\n",
       "       2.23223301e+02, 2.22222300e+02, 2.21221299e+02, 2.20220298e+02,\n",
       "       2.19219297e+02, 2.18218296e+02, 2.17217295e+02, 2.16216295e+02,\n",
       "       2.15215294e+02, 2.14214293e+02, 2.13213292e+02, 2.12212291e+02,\n",
       "       2.11211290e+02, 2.10210289e+02, 2.09209288e+02, 2.08208287e+02,\n",
       "       2.07207286e+02, 2.06206286e+02, 2.05205285e+02, 2.04204284e+02,\n",
       "       2.03203283e+02, 2.02202282e+02, 2.01201281e+02, 2.00200280e+02,\n",
       "       1.99199279e+02, 1.98198278e+02, 1.97197277e+02, 1.96196277e+02,\n",
       "       1.95195276e+02, 1.94194275e+02, 1.93193274e+02, 1.92192273e+02,\n",
       "       1.91191272e+02, 1.90190271e+02, 1.89189270e+02, 1.88188269e+02,\n",
       "       1.87187268e+02, 1.86186268e+02, 1.85185267e+02, 1.84184266e+02,\n",
       "       1.83183265e+02, 1.82182264e+02, 1.81181263e+02, 1.80180262e+02,\n",
       "       1.79179261e+02, 1.78178260e+02, 1.77177259e+02, 1.76176259e+02,\n",
       "       1.75175258e+02, 1.74174257e+02, 1.73173256e+02, 1.72172255e+02,\n",
       "       1.71171254e+02, 1.70170253e+02, 1.69169252e+02, 1.68168251e+02,\n",
       "       1.67167250e+02, 1.66166250e+02, 1.65165249e+02, 1.64164248e+02,\n",
       "       1.63163247e+02, 1.62162246e+02, 1.61161245e+02, 1.60160244e+02,\n",
       "       1.59159243e+02, 1.58158242e+02, 1.57157241e+02, 1.56156241e+02,\n",
       "       1.55155240e+02, 1.54154239e+02, 1.53153238e+02, 1.52152237e+02,\n",
       "       1.51151236e+02, 1.50150235e+02, 1.49149234e+02, 1.48148233e+02,\n",
       "       1.47147232e+02, 1.46146232e+02, 1.45145231e+02, 1.44144230e+02,\n",
       "       1.43143229e+02, 1.42142228e+02, 1.41141227e+02, 1.40140226e+02,\n",
       "       1.39139225e+02, 1.38138224e+02, 1.37137223e+02, 1.36136223e+02,\n",
       "       1.35135222e+02, 1.34134221e+02, 1.33133220e+02, 1.32132219e+02,\n",
       "       1.31131218e+02, 1.30130217e+02, 1.29129216e+02, 1.28128215e+02,\n",
       "       1.27127214e+02, 1.26126214e+02, 1.25125213e+02, 1.24124212e+02,\n",
       "       1.23123211e+02, 1.22122210e+02, 1.21121209e+02, 1.20120208e+02,\n",
       "       1.19119207e+02, 1.18118206e+02, 1.17117205e+02, 1.16116205e+02,\n",
       "       1.15115204e+02, 1.14114203e+02, 1.13113202e+02, 1.12112201e+02,\n",
       "       1.11111200e+02, 1.10110199e+02, 1.09109198e+02, 1.08108197e+02,\n",
       "       1.07107196e+02, 1.06106195e+02, 1.05105195e+02, 1.04104194e+02,\n",
       "       1.03103193e+02, 1.02102192e+02, 1.01101191e+02, 1.00100190e+02,\n",
       "       9.90991892e+01, 9.80981883e+01, 9.70971874e+01, 9.60961865e+01,\n",
       "       9.50951856e+01, 9.40941847e+01, 9.30931838e+01, 9.20921829e+01,\n",
       "       9.10911820e+01, 9.00901811e+01, 8.90891802e+01, 8.80881793e+01,\n",
       "       8.70871784e+01, 8.60861775e+01, 8.50851766e+01, 8.40841757e+01,\n",
       "       8.30831748e+01, 8.20821739e+01, 8.10811730e+01, 8.00801721e+01,\n",
       "       7.90791712e+01, 7.80781703e+01, 7.70771694e+01, 7.60761685e+01,\n",
       "       7.50751676e+01, 7.40741667e+01, 7.30731658e+01, 7.20721649e+01,\n",
       "       7.10711640e+01, 7.00701631e+01, 6.90691622e+01, 6.80681613e+01,\n",
       "       6.70671604e+01, 6.60661595e+01, 6.50651586e+01, 6.40641577e+01,\n",
       "       6.30631568e+01, 6.20621559e+01, 6.10611550e+01, 6.00601541e+01,\n",
       "       5.90591532e+01, 5.80581523e+01, 5.70571514e+01, 5.60561505e+01,\n",
       "       5.50551495e+01, 5.40541486e+01, 5.30531477e+01, 5.20521468e+01,\n",
       "       5.10511459e+01, 5.00501450e+01, 4.90491441e+01, 4.80481432e+01,\n",
       "       4.70471423e+01, 4.60461414e+01, 4.50451405e+01, 4.40441396e+01,\n",
       "       4.30431387e+01, 4.20421378e+01, 4.10411369e+01, 4.00401360e+01,\n",
       "       3.90391351e+01, 3.80381342e+01, 3.70371333e+01, 3.60361324e+01,\n",
       "       3.50351315e+01, 3.40341306e+01, 3.30331297e+01, 3.20321288e+01,\n",
       "       3.10311279e+01, 3.00301270e+01, 2.90291261e+01, 2.80281252e+01,\n",
       "       2.70271243e+01, 2.60261234e+01, 2.50251225e+01, 2.40241216e+01,\n",
       "       2.30231207e+01, 2.20221198e+01, 2.10211189e+01, 2.00201180e+01,\n",
       "       1.90191171e+01, 1.80181162e+01, 1.70171153e+01, 1.60161144e+01,\n",
       "       1.50151135e+01, 1.40141126e+01, 1.30131117e+01, 1.20121108e+01,\n",
       "       1.10111099e+01, 1.00101090e+01, 9.00910811e+00, 8.00810721e+00,\n",
       "       7.00710631e+00, 6.00610541e+00, 5.00510450e+00, 4.00410360e+00,\n",
       "       3.00310270e+00, 2.00210180e+00, 1.00110090e+00, 1.00000000e-04])"
      ]
     },
     "execution_count": 940,
     "metadata": {},
     "output_type": "execute_result"
    }
   ],
   "source": [
    "lambdas = np.linspace(1000,0.0001,1000)\n",
    "lambdas"
   ]
  },
  {
   "cell_type": "code",
   "execution_count": 941,
   "metadata": {},
   "outputs": [
    {
     "data": {
      "text/html": [
       "<style>#sk-container-id-16 {color: black;background-color: white;}#sk-container-id-16 pre{padding: 0;}#sk-container-id-16 div.sk-toggleable {background-color: white;}#sk-container-id-16 label.sk-toggleable__label {cursor: pointer;display: block;width: 100%;margin-bottom: 0;padding: 0.3em;box-sizing: border-box;text-align: center;}#sk-container-id-16 label.sk-toggleable__label-arrow:before {content: \"▸\";float: left;margin-right: 0.25em;color: #696969;}#sk-container-id-16 label.sk-toggleable__label-arrow:hover:before {color: black;}#sk-container-id-16 div.sk-estimator:hover label.sk-toggleable__label-arrow:before {color: black;}#sk-container-id-16 div.sk-toggleable__content {max-height: 0;max-width: 0;overflow: hidden;text-align: left;background-color: #f0f8ff;}#sk-container-id-16 div.sk-toggleable__content pre {margin: 0.2em;color: black;border-radius: 0.25em;background-color: #f0f8ff;}#sk-container-id-16 input.sk-toggleable__control:checked~div.sk-toggleable__content {max-height: 200px;max-width: 100%;overflow: auto;}#sk-container-id-16 input.sk-toggleable__control:checked~label.sk-toggleable__label-arrow:before {content: \"▾\";}#sk-container-id-16 div.sk-estimator input.sk-toggleable__control:checked~label.sk-toggleable__label {background-color: #d4ebff;}#sk-container-id-16 div.sk-label input.sk-toggleable__control:checked~label.sk-toggleable__label {background-color: #d4ebff;}#sk-container-id-16 input.sk-hidden--visually {border: 0;clip: rect(1px 1px 1px 1px);clip: rect(1px, 1px, 1px, 1px);height: 1px;margin: -1px;overflow: hidden;padding: 0;position: absolute;width: 1px;}#sk-container-id-16 div.sk-estimator {font-family: monospace;background-color: #f0f8ff;border: 1px dotted black;border-radius: 0.25em;box-sizing: border-box;margin-bottom: 0.5em;}#sk-container-id-16 div.sk-estimator:hover {background-color: #d4ebff;}#sk-container-id-16 div.sk-parallel-item::after {content: \"\";width: 100%;border-bottom: 1px solid gray;flex-grow: 1;}#sk-container-id-16 div.sk-label:hover label.sk-toggleable__label {background-color: #d4ebff;}#sk-container-id-16 div.sk-serial::before {content: \"\";position: absolute;border-left: 1px solid gray;box-sizing: border-box;top: 0;bottom: 0;left: 50%;z-index: 0;}#sk-container-id-16 div.sk-serial {display: flex;flex-direction: column;align-items: center;background-color: white;padding-right: 0.2em;padding-left: 0.2em;position: relative;}#sk-container-id-16 div.sk-item {position: relative;z-index: 1;}#sk-container-id-16 div.sk-parallel {display: flex;align-items: stretch;justify-content: center;background-color: white;position: relative;}#sk-container-id-16 div.sk-item::before, #sk-container-id-16 div.sk-parallel-item::before {content: \"\";position: absolute;border-left: 1px solid gray;box-sizing: border-box;top: 0;bottom: 0;left: 50%;z-index: -1;}#sk-container-id-16 div.sk-parallel-item {display: flex;flex-direction: column;z-index: 1;position: relative;background-color: white;}#sk-container-id-16 div.sk-parallel-item:first-child::after {align-self: flex-end;width: 50%;}#sk-container-id-16 div.sk-parallel-item:last-child::after {align-self: flex-start;width: 50%;}#sk-container-id-16 div.sk-parallel-item:only-child::after {width: 0;}#sk-container-id-16 div.sk-dashed-wrapped {border: 1px dashed gray;margin: 0 0.4em 0.5em 0.4em;box-sizing: border-box;padding-bottom: 0.4em;background-color: white;}#sk-container-id-16 div.sk-label label {font-family: monospace;font-weight: bold;display: inline-block;line-height: 1.2em;}#sk-container-id-16 div.sk-label-container {text-align: center;}#sk-container-id-16 div.sk-container {/* jupyter's `normalize.less` sets `[hidden] { display: none; }` but bootstrap.min.css set `[hidden] { display: none !important; }` so we also need the `!important` here to be able to override the default hidden behavior on the sphinx rendered scikit-learn.org. See: https://github.com/scikit-learn/scikit-learn/issues/21755 */display: inline-block !important;position: relative;}#sk-container-id-16 div.sk-text-repr-fallback {display: none;}</style><div id=\"sk-container-id-16\" class=\"sk-top-container\"><div class=\"sk-text-repr-fallback\"><pre>RidgeCV(alphas=array([1.00000000e+03, 9.98998999e+02, 9.97997998e+02, 9.96996997e+02,\n",
       "       9.95995996e+02, 9.94994995e+02, 9.93993995e+02, 9.92992994e+02,\n",
       "       9.91991993e+02, 9.90990992e+02, 9.89989991e+02, 9.88988990e+02,\n",
       "       9.87987989e+02, 9.86986988e+02, 9.85985987e+02, 9.84984986e+02,\n",
       "       9.83983986e+02, 9.82982985e+02, 9.81981984e+02, 9.80980983e+02,\n",
       "       9.79979982e+02, 9.78978981e+0...\n",
       "       2.30231207e+01, 2.20221198e+01, 2.10211189e+01, 2.00201180e+01,\n",
       "       1.90191171e+01, 1.80181162e+01, 1.70171153e+01, 1.60161144e+01,\n",
       "       1.50151135e+01, 1.40141126e+01, 1.30131117e+01, 1.20121108e+01,\n",
       "       1.10111099e+01, 1.00101090e+01, 9.00910811e+00, 8.00810721e+00,\n",
       "       7.00710631e+00, 6.00610541e+00, 5.00510450e+00, 4.00410360e+00,\n",
       "       3.00310270e+00, 2.00210180e+00, 1.00110090e+00, 1.00000000e-04]),\n",
       "        scoring=&#x27;neg_mean_squared_error&#x27;)</pre><b>In a Jupyter environment, please rerun this cell to show the HTML representation or trust the notebook. <br />On GitHub, the HTML representation is unable to render, please try loading this page with nbviewer.org.</b></div><div class=\"sk-container\" hidden><div class=\"sk-item\"><div class=\"sk-estimator sk-toggleable\"><input class=\"sk-toggleable__control sk-hidden--visually\" id=\"sk-estimator-id-18\" type=\"checkbox\" checked><label for=\"sk-estimator-id-18\" class=\"sk-toggleable__label sk-toggleable__label-arrow\">RidgeCV</label><div class=\"sk-toggleable__content\"><pre>RidgeCV(alphas=array([1.00000000e+03, 9.98998999e+02, 9.97997998e+02, 9.96996997e+02,\n",
       "       9.95995996e+02, 9.94994995e+02, 9.93993995e+02, 9.92992994e+02,\n",
       "       9.91991993e+02, 9.90990992e+02, 9.89989991e+02, 9.88988990e+02,\n",
       "       9.87987989e+02, 9.86986988e+02, 9.85985987e+02, 9.84984986e+02,\n",
       "       9.83983986e+02, 9.82982985e+02, 9.81981984e+02, 9.80980983e+02,\n",
       "       9.79979982e+02, 9.78978981e+0...\n",
       "       2.30231207e+01, 2.20221198e+01, 2.10211189e+01, 2.00201180e+01,\n",
       "       1.90191171e+01, 1.80181162e+01, 1.70171153e+01, 1.60161144e+01,\n",
       "       1.50151135e+01, 1.40141126e+01, 1.30131117e+01, 1.20121108e+01,\n",
       "       1.10111099e+01, 1.00101090e+01, 9.00910811e+00, 8.00810721e+00,\n",
       "       7.00710631e+00, 6.00610541e+00, 5.00510450e+00, 4.00410360e+00,\n",
       "       3.00310270e+00, 2.00210180e+00, 1.00110090e+00, 1.00000000e-04]),\n",
       "        scoring=&#x27;neg_mean_squared_error&#x27;)</pre></div></div></div></div></div>"
      ],
      "text/plain": [
       "RidgeCV(alphas=array([1.00000000e+03, 9.98998999e+02, 9.97997998e+02, 9.96996997e+02,\n",
       "       9.95995996e+02, 9.94994995e+02, 9.93993995e+02, 9.92992994e+02,\n",
       "       9.91991993e+02, 9.90990992e+02, 9.89989991e+02, 9.88988990e+02,\n",
       "       9.87987989e+02, 9.86986988e+02, 9.85985987e+02, 9.84984986e+02,\n",
       "       9.83983986e+02, 9.82982985e+02, 9.81981984e+02, 9.80980983e+02,\n",
       "       9.79979982e+02, 9.78978981e+0...\n",
       "       2.30231207e+01, 2.20221198e+01, 2.10211189e+01, 2.00201180e+01,\n",
       "       1.90191171e+01, 1.80181162e+01, 1.70171153e+01, 1.60161144e+01,\n",
       "       1.50151135e+01, 1.40141126e+01, 1.30131117e+01, 1.20121108e+01,\n",
       "       1.10111099e+01, 1.00101090e+01, 9.00910811e+00, 8.00810721e+00,\n",
       "       7.00710631e+00, 6.00610541e+00, 5.00510450e+00, 4.00410360e+00,\n",
       "       3.00310270e+00, 2.00210180e+00, 1.00110090e+00, 1.00000000e-04]),\n",
       "        scoring='neg_mean_squared_error')"
      ]
     },
     "execution_count": 941,
     "metadata": {},
     "output_type": "execute_result"
    }
   ],
   "source": [
    "alphaCV = RidgeCV(alphas = lambdas, scoring = 'neg_mean_squared_error')\n",
    "alphaCV.fit(X_train, y_train)"
   ]
  },
  {
   "cell_type": "code",
   "execution_count": 942,
   "metadata": {},
   "outputs": [
    {
     "data": {
      "text/plain": [
       "406.4064657657658"
      ]
     },
     "execution_count": 942,
     "metadata": {},
     "output_type": "execute_result"
    }
   ],
   "source": [
    "alphaCV.alpha_"
   ]
  },
  {
   "cell_type": "code",
   "execution_count": 943,
   "metadata": {},
   "outputs": [],
   "source": [
    "ridge_model = Ridge(alpha= alphaCV.alpha_).fit(X_train, y_train)\n",
    "y_pred = ridge_model.predict(X_test)"
   ]
  },
  {
   "cell_type": "code",
   "execution_count": 944,
   "metadata": {},
   "outputs": [
    {
     "data": {
      "text/html": [
       "<div>\n",
       "<style scoped>\n",
       "    .dataframe tbody tr th:only-of-type {\n",
       "        vertical-align: middle;\n",
       "    }\n",
       "\n",
       "    .dataframe tbody tr th {\n",
       "        vertical-align: top;\n",
       "    }\n",
       "\n",
       "    .dataframe thead th {\n",
       "        text-align: right;\n",
       "    }\n",
       "</style>\n",
       "<table border=\"1\" class=\"dataframe\">\n",
       "  <thead>\n",
       "    <tr style=\"text-align: right;\">\n",
       "      <th></th>\n",
       "      <th>R2</th>\n",
       "      <th>RMSE</th>\n",
       "    </tr>\n",
       "  </thead>\n",
       "  <tbody>\n",
       "    <tr>\n",
       "      <th>Multiple Linear Regression</th>\n",
       "      <td>0.787361</td>\n",
       "      <td>37270.511851</td>\n",
       "    </tr>\n",
       "    <tr>\n",
       "      <th>Ridge Regression [alpha = 406.4064657657658]</th>\n",
       "      <td>0.860506</td>\n",
       "      <td>28754.473542</td>\n",
       "    </tr>\n",
       "  </tbody>\n",
       "</table>\n",
       "</div>"
      ],
      "text/plain": [
       "                                                    R2          RMSE\n",
       "Multiple Linear Regression                    0.787361  37270.511851\n",
       "Ridge Regression [alpha = 406.4064657657658]  0.860506  28754.473542"
      ]
     },
     "execution_count": 944,
     "metadata": {},
     "output_type": "execute_result"
    }
   ],
   "source": [
    "r2 = ridge_model.score(X_test,y_test)\n",
    "rmse = np.sqrt(mean_squared_error(y_test, y_pred))\n",
    "results.loc[f'Ridge Regression [alpha = {alphaCV.alpha_}]'] = [r2, rmse]\n",
    "results"
   ]
  },
  {
   "cell_type": "code",
   "execution_count": 945,
   "metadata": {},
   "outputs": [
    {
     "data": {
      "image/png": "[encoded data removed]",
      "text/plain": [
       "<Figure size 640x480 with 1 Axes>"
      ]
     },
     "metadata": {},
     "output_type": "display_data"
    }
   ],
   "source": [
    "plt.scatter(y_test, y_pred)\n",
    "plt.show()"
   ]
  }
 ],
 "metadata": {
  "kernelspec": {
   "display_name": "base",
   "language": "python",
   "name": "python3"
  },
  "language_info": {
   "codemirror_mode": {
    "name": "ipython",
    "version": 3
   },
   "file_extension": ".py",
   "mimetype": "text/x-python",
   "name": "python",
   "nbconvert_exporter": "python",
   "pygments_lexer": "ipython3",
   "version": "3.10.9"
  },
  "orig_nbformat": 4
 },
 "nbformat": 4,
 "nbformat_minor": 2
}
